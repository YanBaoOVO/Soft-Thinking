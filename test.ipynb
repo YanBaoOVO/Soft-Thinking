{
 "cells": [
  {
   "cell_type": "code",
   "execution_count": 8,
   "metadata": {},
   "outputs": [
    {
     "name": "stdout",
     "output_type": "stream",
     "text": [
      "Entropy of the distribution (0.9, 0.1): 0.28639695711595625\n"
     ]
    }
   ],
   "source": [
    "import math\n",
    "\n",
    "# Define the probabilities\n",
    "p1 = 0.95\n",
    "p2 = 0.05\n",
    "\n",
    "# Calculate the entropy\n",
    "entropy = - (p1 * math.log2(p1) + p2 * math.log2(p2))\n",
    "\n",
    "# Print the result\n",
    "print(\"Entropy of the distribution (0.9, 0.1):\", entropy)\n"
   ]
  },
  {
   "cell_type": "code",
   "execution_count": null,
   "metadata": {},
   "outputs": [],
   "source": []
  }
 ],
 "metadata": {
  "kernelspec": {
   "display_name": "torch",
   "language": "python",
   "name": "python3"
  },
  "language_info": {
   "codemirror_mode": {
    "name": "ipython",
    "version": 3
   },
   "file_extension": ".py",
   "mimetype": "text/x-python",
   "name": "python",
   "nbconvert_exporter": "python",
   "pygments_lexer": "ipython3",
   "version": "3.9.18"
  }
 },
 "nbformat": 4,
 "nbformat_minor": 2
}
